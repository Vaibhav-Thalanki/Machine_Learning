{
 "cells": [
  {
   "cell_type": "markdown",
   "id": "2f6d533a",
   "metadata": {},
   "source": [
    "# REGRESSION"
   ]
  },
  {
   "cell_type": "markdown",
   "id": "7dbdf8cc",
   "metadata": {},
   "source": [
    "### R2 Score"
   ]
  },
  {
   "cell_type": "code",
   "execution_count": 1,
   "id": "01394b24",
   "metadata": {},
   "outputs": [
    {
     "data": {
      "text/plain": [
       "0.9494736842105264"
      ]
     },
     "execution_count": 1,
     "metadata": {},
     "output_type": "execute_result"
    }
   ],
   "source": [
    "from sklearn.metrics import r2_score\n",
    "y_test=[3,0.5,3,8]\n",
    "y_pred=[2.5,0,3,7]\n",
    "r2_score(y_test,y_pred)"
   ]
  },
  {
   "cell_type": "markdown",
   "id": "347b41e1",
   "metadata": {},
   "source": [
    "### Mean Square error"
   ]
  },
  {
   "cell_type": "code",
   "execution_count": 2,
   "id": "bd0f1356",
   "metadata": {},
   "outputs": [
    {
     "data": {
      "text/plain": [
       "0.375"
      ]
     },
     "execution_count": 2,
     "metadata": {},
     "output_type": "execute_result"
    }
   ],
   "source": [
    "from sklearn.metrics import mean_squared_error\n",
    "y_test=[3,0.5,3,8]\n",
    "y_pred=[2.5,0,3,7]\n",
    "mean_squared_error(y_test,y_pred)"
   ]
  },
  {
   "cell_type": "markdown",
   "id": "f8a347b5",
   "metadata": {},
   "source": [
    "### Root Mean Square"
   ]
  },
  {
   "cell_type": "code",
   "execution_count": 5,
   "id": "d9c544a6",
   "metadata": {},
   "outputs": [
    {
     "data": {
      "text/plain": [
       "0.6123724356957945"
      ]
     },
     "execution_count": 5,
     "metadata": {},
     "output_type": "execute_result"
    }
   ],
   "source": [
    "from sklearn.metrics import mean_squared_error\n",
    "y_test=[3,0.5,3,8]\n",
    "y_pred=[2.5,0,3,7]\n",
    "mean_squared_error(y_test,y_pred,squared=False)"
   ]
  },
  {
   "cell_type": "markdown",
   "id": "bdd77928",
   "metadata": {},
   "source": [
    "### Mean Absolute error"
   ]
  },
  {
   "cell_type": "code",
   "execution_count": 6,
   "id": "1547e8d1",
   "metadata": {},
   "outputs": [
    {
     "data": {
      "text/plain": [
       "0.5"
      ]
     },
     "execution_count": 6,
     "metadata": {},
     "output_type": "execute_result"
    }
   ],
   "source": [
    "from sklearn.metrics import mean_absolute_error\n",
    "y_test=[3,0.5,3,8]\n",
    "y_pred=[2.5,0,3,7]\n",
    "mean_absolute_error(y_test,y_pred)"
   ]
  },
  {
   "cell_type": "markdown",
   "id": "d98a2554",
   "metadata": {},
   "source": [
    "# CLASSIFICATION"
   ]
  },
  {
   "cell_type": "code",
   "execution_count": null,
   "id": "4513ee53",
   "metadata": {},
   "outputs": [],
   "source": []
  }
 ],
 "metadata": {
  "kernelspec": {
   "display_name": "Python 3 (ipykernel)",
   "language": "python",
   "name": "python3"
  },
  "language_info": {
   "codemirror_mode": {
    "name": "ipython",
    "version": 3
   },
   "file_extension": ".py",
   "mimetype": "text/x-python",
   "name": "python",
   "nbconvert_exporter": "python",
   "pygments_lexer": "ipython3",
   "version": "3.8.6"
  }
 },
 "nbformat": 4,
 "nbformat_minor": 5
}
